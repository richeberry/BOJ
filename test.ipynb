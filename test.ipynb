{
 "cells": [
  {
   "cell_type": "code",
   "execution_count": 23,
   "metadata": {},
   "outputs": [
    {
     "name": "stdout",
     "output_type": "stream",
     "text": [
      "[0, 0, 1, 0, 0, 0, 0, 0, 0, 0, 0]\n",
      "[0, 0, 1, 2, 0, 0, 0, 0, 0, 0, 0]\n",
      "[0, 0, 1, 1, 2, 0, 0, 0, 0, 0, 0]\n",
      "[0, 0, 1, 1, 2, 3, 0, 0, 0, 0, 0]\n",
      "[0, 0, 1, 1, 2, 3, 4, 0, 0, 0, 0]\n",
      "[0, 0, 1, 1, 2, 3, 2, 3, 0, 0, 0]\n",
      "[0, 0, 1, 1, 2, 3, 2, 3, 4, 0, 0]\n",
      "[0, 0, 1, 1, 2, 3, 2, 3, 3, 4, 0]\n",
      "[0, 0, 1, 1, 2, 3, 2, 3, 3, 2, 3]\n"
     ]
    },
    {
     "data": {
      "text/plain": [
       "[0, 0, 1, 1, 2, 3, 2, 3, 3, 2, 3]"
      ]
     },
     "execution_count": 23,
     "metadata": {},
     "output_type": "execute_result"
    }
   ],
   "source": [
    "# x = int(input())\n",
    "\n",
    "x = 10\n",
    "\n",
    "dp = [0] * (x + 1)\n",
    "\n",
    "# dp[2] = 1\n",
    "# dp[3] = 1\n",
    "\n",
    "\n",
    "for i in range(2, x+1):\n",
    "    dp[i] = dp[i-1] + 1\n",
    "\n",
    "    print(dp)\n",
    "\n",
    "    if i % 2 == 0:\n",
    "        dp[i] = min(dp[i], dp[i//2] + 1)\n",
    "    if i % 3 == 0:\n",
    "        dp[i] = min(dp[i], dp[i//3] + 1)\n",
    "\n",
    "print(dp[x])"
   ]
  }
 ],
 "metadata": {
  "interpreter": {
   "hash": "aee8b7b246df8f9039afb4144a1f6fd8d2ca17a180786b69acc140d282b71a49"
  },
  "kernelspec": {
   "display_name": "Python 3.8.10 64-bit",
   "language": "python",
   "name": "python3"
  },
  "language_info": {
   "codemirror_mode": {
    "name": "ipython",
    "version": 3
   },
   "file_extension": ".py",
   "mimetype": "text/x-python",
   "name": "python",
   "nbconvert_exporter": "python",
   "pygments_lexer": "ipython3",
   "version": "3.8.10"
  },
  "orig_nbformat": 4
 },
 "nbformat": 4,
 "nbformat_minor": 2
}
