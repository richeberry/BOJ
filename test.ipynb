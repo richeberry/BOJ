{
 "cells": [
  {
   "cell_type": "code",
   "execution_count": null,
   "metadata": {},
   "outputs": [],
   "source": [
    "from collections import deque\n",
    "\n",
    "def bfs(graph, v, visit):\n",
    "    que = deque([v])\n",
    "    visit[v] = True\n",
    "    while que:\n",
    "        v = que.popleft()\n",
    "        for i in graph[v]:\n",
    "            if not visit[i]:\n",
    "                que.append(i)\n",
    "                visit[i] = True\n"
   ]
  },
  {
   "cell_type": "code",
   "execution_count": 63,
   "metadata": {},
   "outputs": [
    {
     "name": "stdout",
     "output_type": "stream",
     "text": [
      "1\n",
      "2\n",
      "4\n",
      "3\n",
      "0\n"
     ]
    }
   ],
   "source": [
    "# BOJ _ 24444\n",
    "from collections import deque\n",
    "\n",
    "n, m, r = map(int, input().split())\n",
    "\n",
    "def bfs(graph, start, visited):\n",
    "    global order\n",
    "    que = deque([start])\n",
    "    visited[start] = True\n",
    "    while que:\n",
    "        v = que.popleft()\n",
    "        orderlst[v] = order\n",
    "        order += 1\n",
    "        for i in graph[v]:\n",
    "            if not visited[i]:\n",
    "                que.append(i)\n",
    "                visited[i] = True\n",
    "\n",
    "visited = [False] * (n + 1)\n",
    "graph = [[] for _ in range(n + 1)]\n",
    "orderlst = [0] * (n + 1)\n",
    "\n",
    "for _ in range(m):\n",
    "    a, b = map(int, input().split())\n",
    "    graph[a].append(b)\n",
    "    graph[b].append(a)\n",
    "for q in graph:\n",
    "    q.sort()\n",
    "\n",
    "order = 1\n",
    "bfs(graph, r, visited)\n",
    "for i in range(1, n + 1):\n",
    "    print(orderlst[i])"
   ]
  },
  {
   "cell_type": "code",
   "execution_count": 3,
   "metadata": {},
   "outputs": [
    {
     "name": "stdout",
     "output_type": "stream",
     "text": [
      "[['-', '|', '|', '-', '-', '|'], ['|', '|', '|', '|', '|', '|'], ['|', '|', '|', '-', '|', '-'], ['-', '|', '|', '|', '|', '-'], ['|', '|', '|', '|', '-', '|'], ['|', '|', '-', '|', '|', '-']]\n",
      "['-', '|', '|', '-', '-', '|']\n",
      "['|', '|', '|', '|', '|', '|']\n",
      "['|', '|', '|', '-', '|', '-']\n",
      "['-', '|', '|', '|', '|', '-']\n",
      "['|', '|', '|', '|', '-', '|']\n",
      "['|', '|', '-', '|', '|', '-']\n"
     ]
    }
   ],
   "source": [
    "# 1388\n",
    "\n",
    "from collections import deque\n",
    "\n",
    "# graph = []\n",
    "# n, m = map(int, input().split())\n",
    "# for i in range(n):\n",
    "#     graph.append(list(input()))\n",
    "\n",
    "graph = [['-', '|', '|', '-', '-', '|'], ['|', '|', '|', '|', '|', '|'], ['|', '|', '|', '-', '|', '-'], ['-', '|', '|', '|', '|', '-'], ['|', '|', '|', '|', '-', '|'], ['|', '|', '-', '|', '|', '-']]\n",
    "print(graph)\n",
    "\n",
    "def bfs(graph, start, visit):\n",
    "    que = deque([start])\n",
    "    visit[start] = True\n",
    "    while que:\n",
    "        v = que.popleft()\n",
    "        for i in graph[v]:\n",
    "            for j in i:\n",
    "                "
   ]
  },
  {
   "cell_type": "code",
   "execution_count": 73,
   "metadata": {},
   "outputs": [
    {
     "name": "stdout",
     "output_type": "stream",
     "text": [
      "['-', '|', '|', '-', '-', '|', '|', '-', '-']\n"
     ]
    }
   ],
   "source": [
    "b = '-||--||--'\n",
    "b = list(b)\n",
    "\n",
    "print(b)"
   ]
  }
 ],
 "metadata": {
  "interpreter": {
   "hash": "aee8b7b246df8f9039afb4144a1f6fd8d2ca17a180786b69acc140d282b71a49"
  },
  "kernelspec": {
   "display_name": "Python 3.8.10 64-bit",
   "language": "python",
   "name": "python3"
  },
  "language_info": {
   "codemirror_mode": {
    "name": "ipython",
    "version": 3
   },
   "file_extension": ".py",
   "mimetype": "text/x-python",
   "name": "python",
   "nbconvert_exporter": "python",
   "pygments_lexer": "ipython3",
   "version": "3.8.10"
  },
  "orig_nbformat": 4
 },
 "nbformat": 4,
 "nbformat_minor": 2
}
