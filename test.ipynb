{
 "cells": [
  {
   "cell_type": "code",
   "execution_count": 2,
   "metadata": {},
   "outputs": [
    {
     "name": "stdout",
     "output_type": "stream",
     "text": [
      "factor\n",
      "multiple\n",
      "neither\n"
     ]
    }
   ],
   "source": [
    "import sys\n",
    "input = sys.stdin.readline\n",
    "\n",
    "while True:\n",
    "    a, b = map(int, input().split())\n",
    "    if a == 0 and b == 0:\n",
    "        break\n",
    "    if b % a == 0:\n",
    "        print('factor')\n",
    "    elif a % b == 0:\n",
    "        print('multiple')\n",
    "    else:\n",
    "        print('neither')"
   ]
  },
  {
   "cell_type": "code",
   "execution_count": 29,
   "metadata": {},
   "outputs": [
    {
     "name": "stdout",
     "output_type": "stream",
     "text": [
      "[0, 1, 0, 0, 0, 0]\n",
      "[0, 1, 0, 0, 0, 0]\n",
      "tmp 1\n",
      "before 0\n",
      "[0, 1, 0, 0, 0, 1]\n",
      "tmp 2\n",
      "before 2\n",
      "[0, 1, 0, 0, 0, 3]\n",
      "tmp 3\n",
      "before 3\n",
      "[0, 1, 0, 0, 0, 4]\n",
      "tmp 4\n",
      "before 4\n",
      "[0, 1, 0, 0, 0, 5]\n",
      "tmp 5\n",
      "before 5\n",
      "answer 5\n"
     ]
    }
   ],
   "source": [
    "\n",
    "# BOJ _ 1463 1로 만들기\n",
    "\n",
    "n = 5\n",
    "\n",
    "dp = [0] * (n + 1)\n",
    "dp[1] = 1\n",
    "\n",
    "# bottom up으로 진행\n",
    "\n",
    "# 시작 전 DP 확인\n",
    "print(dp)\n",
    "\n",
    "tmp = 1\n",
    "before = dp[0]\n",
    "while True:\n",
    "    # 탈출 조건\n",
    "    print(dp)\n",
    "    print('tmp',tmp)\n",
    "    print('before',before)\n",
    "    if before == n:\n",
    "        break\n",
    "\n",
    "    elif (tmp * 2) % n == 0:\n",
    "        dp[n] = before + 1\n",
    "        before = tmp * 2\n",
    "    elif (tmp * 3) % n == 0:\n",
    "        dp[n] = before + 1\n",
    "        before = tmp * 3\n",
    "    else:\n",
    "        dp[n] = before + 1\n",
    "        before = tmp + 1\n",
    "    tmp += 1\n",
    "\n",
    "print('answer',dp[n])\n",
    "\n"
   ]
  }
 ],
 "metadata": {
  "interpreter": {
   "hash": "aee8b7b246df8f9039afb4144a1f6fd8d2ca17a180786b69acc140d282b71a49"
  },
  "kernelspec": {
   "display_name": "Python 3.8.10 64-bit",
   "language": "python",
   "name": "python3"
  },
  "language_info": {
   "codemirror_mode": {
    "name": "ipython",
    "version": 3
   },
   "file_extension": ".py",
   "mimetype": "text/x-python",
   "name": "python",
   "nbconvert_exporter": "python",
   "pygments_lexer": "ipython3",
   "version": "3.8.10"
  },
  "orig_nbformat": 4
 },
 "nbformat": 4,
 "nbformat_minor": 2
}
