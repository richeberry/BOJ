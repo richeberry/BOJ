{
 "cells": [
  {
   "cell_type": "code",
   "execution_count": 9,
   "metadata": {},
   "outputs": [
    {
     "name": "stdout",
     "output_type": "stream",
     "text": [
      "5 8 \n",
      "10946 17711 \n"
     ]
    }
   ],
   "source": [
    "# 피보나치 다이나믹 프로그래밍\n",
    "\n",
    "import sys\n",
    "input = sys.stdin.readline\n",
    "\n",
    "t = int(input())\n",
    "\n",
    "# fibonacci 점화식: fibonacci(n) = fibonacci(n-1) + fibonacci(n-2)\n",
    "# fibonacci(0) = 1\n",
    "# fibonacci(1) = 1\n",
    "def fibonacci(n):\n",
    "    dp = [0] * (n + 3) # 넉넉하게 리스트 길이 만듦\n",
    "    dp[0] = [1,0] # 0일 때 fibonacci(0)은 한 번 호출됨\n",
    "    dp[1] = [0,1] # 1일 때 fibonacci(1)은 한 번 호출됨\n",
    "\n",
    "    if n > 1: # 마지막 범위가 2보다 작은 경우 제외하기 위해\n",
    "        for i in range(2, n + 1):\n",
    "            # n-1 자리의 값과 n-2 자리의 값을 각각 더해줌 \n",
    "            dp[i] = [x + y for x, y in zip(dp[i-1],dp[i-2])] \n",
    "    # 최종 n자리의 값 출력\n",
    "    return dp[n]\n",
    "\n",
    "for _ in range(t):\n",
    "    n = int(input())\n",
    "    ans = fibonacci(n)\n",
    "    for i in ans:\n",
    "        print(i, end = ' ')\n",
    "    print()\n",
    "\n"
   ]
  }
 ],
 "metadata": {
  "interpreter": {
   "hash": "e8de9a0517cb421e6cd607854e94eeaca1804978222378398d6fa367a6b4d678"
  },
  "kernelspec": {
   "display_name": "Python 3.9.7 ('project')",
   "language": "python",
   "name": "python3"
  },
  "language_info": {
   "codemirror_mode": {
    "name": "ipython",
    "version": 3
   },
   "file_extension": ".py",
   "mimetype": "text/x-python",
   "name": "python",
   "nbconvert_exporter": "python",
   "pygments_lexer": "ipython3",
   "version": "3.8.10"
  },
  "orig_nbformat": 4
 },
 "nbformat": 4,
 "nbformat_minor": 2
}
