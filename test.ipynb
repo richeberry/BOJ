{
 "cells": [
  {
   "cell_type": "code",
   "execution_count": 53,
   "metadata": {},
   "outputs": [
    {
     "name": "stdout",
     "output_type": "stream",
     "text": [
      "00000001\n",
      "{'1', '0'}\n",
      "1 0\n",
      "0\n"
     ]
    }
   ],
   "source": [
    "s = '00000001'\n",
    "\n",
    "cnt0 = 0\n",
    "cnt1 = 0\n",
    "cnt = 0\n",
    "\n",
    "\n",
    "print(s)\n",
    "\n",
    "\n",
    "\n",
    "# 연속되는 0의 수만큼 cnt에 저장하기\n",
    "for num in range(len(s)-1):\n",
    "    # 0으로 연속되는 숫자 세기\n",
    "    if s[num] == '0' and s[num+1] == '1':\n",
    "        cnt0 += 1\n",
    "    elif s[num] == '1' and s[num+1] == '0':\n",
    "        cnt1 += 1\n",
    "\n",
    "print(cnt0, cnt1)\n",
    "# 두 값이 다 같은 값이면 0 출력\n",
    "if len(set(s)) == 1:\n",
    "    print(0)\n",
    "# cnt0과 cnt1 값 중 더 작은 수 출력\n",
    "else:\n",
    "\n",
    "print(min(cnt0, cnt1))"
   ]
  },
  {
   "cell_type": "code",
   "execution_count": 30,
   "metadata": {},
   "outputs": [
    {
     "data": {
      "text/plain": [
       "'assle'"
      ]
     },
     "execution_count": 30,
     "metadata": {},
     "output_type": "execute_result"
    }
   ],
   "source": [
    "a = 'apple'\n",
    "a = a.replace('p','s')\n",
    "\n",
    "a"
   ]
  }
 ],
 "metadata": {
  "interpreter": {
   "hash": "aee8b7b246df8f9039afb4144a1f6fd8d2ca17a180786b69acc140d282b71a49"
  },
  "kernelspec": {
   "display_name": "Python 3.8.10 64-bit",
   "language": "python",
   "name": "python3"
  },
  "language_info": {
   "codemirror_mode": {
    "name": "ipython",
    "version": 3
   },
   "file_extension": ".py",
   "mimetype": "text/x-python",
   "name": "python",
   "nbconvert_exporter": "python",
   "pygments_lexer": "ipython3",
   "version": "3.8.10"
  },
  "orig_nbformat": 4
 },
 "nbformat": 4,
 "nbformat_minor": 2
}
