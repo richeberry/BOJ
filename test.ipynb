{
 "cells": [
  {
   "cell_type": "code",
   "execution_count": 74,
   "metadata": {},
   "outputs": [
    {
     "name": "stdout",
     "output_type": "stream",
     "text": [
      "1\n",
      "3\n",
      "1\n"
     ]
    }
   ],
   "source": [
    "\n",
    "# 틀렸습니다\n",
    "\n",
    "from collections import deque\n",
    "for i in range(int(input())):\n",
    "    N,M = map(int, input().split())\n",
    "    case = deque(list(map(int, input().split())))\n",
    "    idx_case = deque(list(range(N)))\n",
    "\n",
    "    cnt = 0\n",
    "\n",
    "    while case:\n",
    "        if case[0] == max(case):\n",
    "            cnt += 1\n",
    "            case.popleft()\n",
    "            if idx_case.popleft() == M:\n",
    "                print(cnt)\n",
    "\n",
    "        else:\n",
    "            case.rotate(-1)\n",
    "            idx_case.rotate(-1)"
   ]
  },
  {
   "cell_type": "code",
   "execution_count": 68,
   "metadata": {},
   "outputs": [
    {
     "name": "stdout",
     "output_type": "stream",
     "text": [
      "5\n",
      "힝\n",
      "4\n",
      "힝\n",
      "3\n",
      "힝\n",
      "2\n",
      "힝\n",
      "1\n",
      "힝\n",
      "0\n",
      "6\n"
     ]
    }
   ],
   "source": [
    "from collections import  deque\n",
    "M = 0\n",
    "inp = [1,1,9,1,1,1]\n",
    "# case = [1,2,3,4]\n",
    "# case = [5]\n",
    "case = deque()\n",
    "printing = 0\n",
    "target = inp[M]\n",
    "\n",
    "for i in inp: # que에 숫자 넣어주기\n",
    "    case.append(i)\n",
    "\n",
    "while case: # case에 수가 들어있으면 \n",
    "    if case[0] == max(case): # 제일 큰 수가 case[0]의 수와 같으면\n",
    "        printing += 1 # 순서 빼주고\n",
    "        case.popleft() # 프린트\n",
    "        print(len(case))\n",
    "        if len(case) <= 0: \n",
    "            print(printing)\n",
    "            break\n",
    "        else:\n",
    "            print('힝')\n",
    "    el\n",
    "\n",
    "    \n",
    "    else:\n",
    "        case.rotate(-1)"
   ]
  },
  {
   "cell_type": "code",
   "execution_count": 70,
   "metadata": {},
   "outputs": [
    {
     "name": "stdout",
     "output_type": "stream",
     "text": [
      "1 0\n",
      "deque([5])\n",
      "deque([0])\n",
      "4 2\n",
      "deque([1, 2, 3, 4])\n",
      "deque([0, 1, 2, 3])\n",
      "6 0\n",
      "deque([1, 1, 9, 1, 1, 1])\n",
      "deque([0, 1, 2, 3, 4, 5])\n"
     ]
    }
   ],
   "source": [
    "for _ in range(int(input())):\n",
    "    n , x = map(int,input().split())\n",
    "    que = deque(list(map(int,input().split())))\n",
    "    idx_que = deque(list(range(n)))\n",
    "    cnt = 0 \n",
    "    print(n,x)\n",
    "    print(que)\n",
    "    print(idx_que)"
   ]
  }
 ],
 "metadata": {
  "interpreter": {
   "hash": "e8de9a0517cb421e6cd607854e94eeaca1804978222378398d6fa367a6b4d678"
  },
  "kernelspec": {
   "display_name": "Python 3.9.7 ('project')",
   "language": "python",
   "name": "python3"
  },
  "language_info": {
   "codemirror_mode": {
    "name": "ipython",
    "version": 3
   },
   "file_extension": ".py",
   "mimetype": "text/x-python",
   "name": "python",
   "nbconvert_exporter": "python",
   "pygments_lexer": "ipython3",
   "version": "3.8.10"
  },
  "orig_nbformat": 4
 },
 "nbformat": 4,
 "nbformat_minor": 2
}
