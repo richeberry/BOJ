{
 "cells": [
  {
   "cell_type": "code",
   "execution_count": 14,
   "metadata": {},
   "outputs": [
    {
     "name": "stdout",
     "output_type": "stream",
     "text": [
      "[2, 2, 1, 2, 5]\n"
     ]
    }
   ],
   "source": [
    "\n",
    "n = int(input())\n",
    "num = [0] * 5\n",
    "num[0] = 1\n",
    "\n",
    "\n",
    "start = list(map(int, input().split()))\n",
    "for i in range(1, n):\n",
    "    now = list(map(int, input().split()))\n",
    "    if start[0] > now[0] and start[1] > now[1]:\n",
    "        num[i] = num[0] + 1\n",
    "        if num[i] == max(num):\n",
    "            num[i] = n\n",
    "    elif start[0] < now[0] and start[1] < now[1]:\n",
    "        for j in range(0, i):\n",
    "            num[j] += 1\n",
    "        num[i] = num[0] - 1\n",
    "    else:\n",
    "        num[i] = num[0]\n",
    "print(num)\n",
    "\n",
    "\n",
    "\n"
   ]
  },
  {
   "cell_type": "code",
   "execution_count": null,
   "metadata": {},
   "outputs": [],
   "source": [
    "n = int(input())\n",
    "\n",
    "data = []\n",
    "ans = []\n",
    "for i in range(n):\n",
    "    a, b = map(int, input().split())\n",
    "    data.append((a, b))\n",
    "\n",
    "for i in range(n):\n",
    "    count = 0\n",
    "    for j in range(n):\n",
    "        if data[i][0] < data[j][0] and data[i][1] < data[j][1]:\n",
    "            count += 1\n",
    "    ans.append(count + 1)\n",
    "\n",
    "print(ans)\n"
   ]
  },
  {
   "cell_type": "code",
   "execution_count": null,
   "metadata": {},
   "outputs": [],
   "source": [
    "n = int(input())\n",
    "data = [] # 정보를 담을 리스트 초기화\n",
    "ans = [] # 등수를 담을 리스트 초기화\n",
    "\n",
    "for i in range(n):\n",
    "    a, b = map(int, input().split())\n",
    "    data.append((a, b)) # tuple 형태로 리스트에 저장\n",
    "\n",
    "for i in range(n):\n",
    "    cnt = 0\n",
    "    for j in range(n):\n",
    "        if data[i][0] < data[j][0] and data[i][1] < data[j][1]:  # 몸무게와 키 전부 다 현재 데이터보다 이상이면\n",
    "            cnt += 1 # 등수 + 1\n",
    "    ans.append(cnt + 1) # 현재 등수 리스트에 추가\n",
    "\n",
    "print(ans)"
   ]
  },
  {
   "cell_type": "code",
   "execution_count": 23,
   "metadata": {},
   "outputs": [
    {
     "name": "stdout",
     "output_type": "stream",
     "text": [
      "[-10, 2, 3, 6, 10]\n",
      "[10, 9, 5, 4, 3, 2, -5, -10]\n",
      "[9, 5, 4, 3, 2, -5, -10]\n",
      "[5, 4, 3, 2, -5, -10]\n",
      "[4, 3, 2, -5, -10]\n",
      "[3, 2, -5, -10]\n",
      "[2, -5, -10]\n",
      "[-5, -10]\n",
      "[-10]\n",
      "[]\n"
     ]
    }
   ],
   "source": [
    "# n = int(input())\n",
    "# cardnum = sorted(list(map(int, input().split())))\n",
    "cardnum = [-10, 2, 3, 6, 10]\n",
    "print(cardnum)\n",
    "# m = int(input())\n",
    "numlst = sorted(list(map(int, input().split())), reverse = True)\n",
    "print(numlst)\n",
    "\n",
    "ans = []\n",
    "while numlst:\n",
    "    if numlst.pop(0) in cardnum:\n",
    "        ans.append(1)\n",
    "    else:\n",
    "        ans.append(0)\n",
    "    print(numlst)\n",
    "\n",
    "# for i in ans:\n",
    "#     print(i, end = ' ')"
   ]
  },
  {
   "cell_type": "code",
   "execution_count": 118,
   "metadata": {},
   "outputs": [
    {
     "name": "stdout",
     "output_type": "stream",
     "text": [
      "[0, 0, 1, 0, 0, 1, 0, 0, 0, 0, 0, 0, 0, 0]\n",
      "0\n",
      "2\n",
      "4\n",
      "6\n",
      "8\n",
      "10\n",
      "12\n",
      "[0, 0, 1, 0, 0, 1, 0, 0, 0, 0, 0, 0, 0, 0]\n"
     ]
    }
   ],
   "source": [
    "# n = int(input())\n",
    "n = 13\n",
    "dp = [-1] * (n + 1)\n",
    "dp[2] = 1\n",
    "dp[5] = 1\n",
    "\n",
    "# dp[5] = 1\n",
    "\n",
    "\n",
    "now = 0\n",
    "# bottom up\n",
    "\n",
    "print(dp)\n",
    "for i in range(0, n+1, 2):\n",
    "    dp[i] +=\n",
    "\n",
    "print(dp)"
   ]
  }
 ],
 "metadata": {
  "interpreter": {
   "hash": "aee8b7b246df8f9039afb4144a1f6fd8d2ca17a180786b69acc140d282b71a49"
  },
  "kernelspec": {
   "display_name": "Python 3.8.10 64-bit",
   "language": "python",
   "name": "python3"
  },
  "language_info": {
   "codemirror_mode": {
    "name": "ipython",
    "version": 3
   },
   "file_extension": ".py",
   "mimetype": "text/x-python",
   "name": "python",
   "nbconvert_exporter": "python",
   "pygments_lexer": "ipython3",
   "version": "3.8.10"
  },
  "orig_nbformat": 4
 },
 "nbformat": 4,
 "nbformat_minor": 2
}
