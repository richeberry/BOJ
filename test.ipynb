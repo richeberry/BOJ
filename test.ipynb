{
 "cells": [
  {
   "cell_type": "code",
   "execution_count": 4,
   "metadata": {},
   "outputs": [
    {
     "ename": "UnboundLocalError",
     "evalue": "local variable 'i' referenced before assignment",
     "output_type": "error",
     "traceback": [
      "\u001b[0;31m---------------------------------------------------------------------------\u001b[0m",
      "\u001b[0;31mUnboundLocalError\u001b[0m                         Traceback (most recent call last)",
      "\u001b[1;32m/Users/songy/Documents/Codes/BOJ/test.ipynb Cell 1'\u001b[0m in \u001b[0;36m<cell line: 18>\u001b[0;34m()\u001b[0m\n\u001b[1;32m     <a href='vscode-notebook-cell:/Users/songy/Documents/Codes/BOJ/test.ipynb#ch0000000?line=17'>18</a>\u001b[0m \u001b[39mfor\u001b[39;00m _ \u001b[39min\u001b[39;00m \u001b[39mrange\u001b[39m(t):\n\u001b[1;32m     <a href='vscode-notebook-cell:/Users/songy/Documents/Codes/BOJ/test.ipynb#ch0000000?line=18'>19</a>\u001b[0m     n \u001b[39m=\u001b[39m \u001b[39mint\u001b[39m(\u001b[39minput\u001b[39m())\n\u001b[0;32m---> <a href='vscode-notebook-cell:/Users/songy/Documents/Codes/BOJ/test.ipynb#ch0000000?line=19'>20</a>\u001b[0m     ans \u001b[39m=\u001b[39m fibonacci(n)\n\u001b[1;32m     <a href='vscode-notebook-cell:/Users/songy/Documents/Codes/BOJ/test.ipynb#ch0000000?line=20'>21</a>\u001b[0m     \u001b[39mfor\u001b[39;00m i \u001b[39min\u001b[39;00m ans:\n\u001b[1;32m     <a href='vscode-notebook-cell:/Users/songy/Documents/Codes/BOJ/test.ipynb#ch0000000?line=21'>22</a>\u001b[0m         \u001b[39mprint\u001b[39m(i, end\u001b[39m=\u001b[39m\u001b[39m'\u001b[39m\u001b[39m \u001b[39m\u001b[39m'\u001b[39m)\n",
      "\u001b[1;32m/Users/songy/Documents/Codes/BOJ/test.ipynb Cell 1'\u001b[0m in \u001b[0;36mfibonacci\u001b[0;34m(n)\u001b[0m\n\u001b[1;32m     <a href='vscode-notebook-cell:/Users/songy/Documents/Codes/BOJ/test.ipynb#ch0000000?line=13'>14</a>\u001b[0m     \u001b[39mfor\u001b[39;00m i \u001b[39min\u001b[39;00m \u001b[39mrange\u001b[39m(\u001b[39m2\u001b[39m, n \u001b[39m+\u001b[39m \u001b[39m1\u001b[39m):\n\u001b[1;32m     <a href='vscode-notebook-cell:/Users/songy/Documents/Codes/BOJ/test.ipynb#ch0000000?line=14'>15</a>\u001b[0m         dp[i] \u001b[39m=\u001b[39m [x \u001b[39m+\u001b[39m y \u001b[39mfor\u001b[39;00m x, y \u001b[39min\u001b[39;00m \u001b[39mzip\u001b[39m(dp[i\u001b[39m-\u001b[39m\u001b[39m1\u001b[39m],dp[i\u001b[39m-\u001b[39m\u001b[39m2\u001b[39m])]\n\u001b[0;32m---> <a href='vscode-notebook-cell:/Users/songy/Documents/Codes/BOJ/test.ipynb#ch0000000?line=15'>16</a>\u001b[0m \u001b[39mreturn\u001b[39;00m dp[i]\n",
      "\u001b[0;31mUnboundLocalError\u001b[0m: local variable 'i' referenced before assignment"
     ]
    }
   ],
   "source": [
    "# 피보나치 다이나믹 프로그래밍\n",
    "\n",
    "# import sys\n",
    "# input = sys.stdin.readline\n",
    "\n",
    "t = int(input())\n",
    "\n",
    "def fibonacci(n):\n",
    "    dp = [0] * (n + 3)\n",
    "    dp[0] = [1,0]\n",
    "    dp[1] = [0,1]\n",
    "\n",
    "    if n > 1:\n",
    "        for i in range(2, n + 1):\n",
    "            dp[i] = [x + y for x, y in zip(dp[i-1],dp[i-2])]\n",
    "    return dp[i]\n",
    "\n",
    "for _ in range(t):\n",
    "    n = int(input())\n",
    "    ans = fibonacci(n)\n",
    "    for i in ans:\n",
    "        print(i, end=' ')\n",
    "\n"
   ]
  }
 ],
 "metadata": {
  "interpreter": {
   "hash": "e8de9a0517cb421e6cd607854e94eeaca1804978222378398d6fa367a6b4d678"
  },
  "kernelspec": {
   "display_name": "Python 3.9.7 ('project')",
   "language": "python",
   "name": "python3"
  },
  "language_info": {
   "codemirror_mode": {
    "name": "ipython",
    "version": 3
   },
   "file_extension": ".py",
   "mimetype": "text/x-python",
   "name": "python",
   "nbconvert_exporter": "python",
   "pygments_lexer": "ipython3",
   "version": "3.9.2"
  },
  "orig_nbformat": 4
 },
 "nbformat": 4,
 "nbformat_minor": 2
}
