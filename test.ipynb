{
 "cells": [
  {
   "cell_type": "code",
   "execution_count": 51,
   "metadata": {},
   "outputs": [
    {
     "name": "stdout",
     "output_type": "stream",
     "text": [
      "5\n"
     ]
    }
   ],
   "source": [
    "# 프린터 큐 \n",
    "\n",
    "wanna = 0\n",
    "case = [1,1,9,1,1,1]\n",
    "# case = [1,2,3,4]\n",
    "# case = [5]\n",
    "\n",
    "where = case[wanna]\n",
    "\n",
    "cnt = 0\n",
    "while case:\n",
    "    case.pop(case.index(max(case)))\n",
    "    if len(set(case)) == 1:\n",
    "        cnt += len(case)\n",
    "        break\n",
    "    if len(case) > 1:\n",
    "        if max(case) == where:\n",
    "            cnt += 1\n",
    "    else:\n",
    "        cnt += 1\n",
    "\n",
    "# print(case.pop(case.index(max(case))))\n",
    "print(cnt)"
   ]
  },
  {
   "cell_type": "code",
   "execution_count": 78,
   "metadata": {},
   "outputs": [
    {
     "name": "stdout",
     "output_type": "stream",
     "text": [
      "1\n",
      "2\n",
      "5\n"
     ]
    }
   ],
   "source": [
    "# 틀렸습니다\n",
    "\n",
    "for i in range(int(input())):\n",
    "    N,M = map(int, input().split())\n",
    "    case = list(map(int, input().split()))\n",
    "\n",
    "    where = case[M]\n",
    "    cnt = 0\n",
    "    while case:\n",
    "        case.pop(case.index(max(case)))\n",
    "        if len(set(case)) == 1:\n",
    "            cnt += len(case)\n",
    "            break\n",
    "        elif len(case) > 1:\n",
    "            if max(case) == where:\n",
    "                cnt += 1\n",
    "        else:\n",
    "            cnt += 1\n",
    "\n",
    "    print(cnt)"
   ]
  },
  {
   "cell_type": "code",
   "execution_count": 119,
   "metadata": {},
   "outputs": [
    {
     "name": "stdout",
     "output_type": "stream",
     "text": [
      "1\n"
     ]
    }
   ],
   "source": [
    "# where = 0\n",
    "# case = [1,1,9,1,1,1]\n",
    "# case = [1,2,3,4]\n",
    "# case = [5]\n",
    "\n",
    "\n",
    "for i in range(int(input())):\n",
    "    N,M = map(int, input().split())\n",
    "    case = list(map(int, input().split()))\n",
    "    num = case[M]\n",
    "    cnt = 0\n",
    "    while case:\n",
    "        if case.index(max(case)) != 0:\n",
    "            case.append(case.pop(0))\n",
    "        elif max(case) == num:\n",
    "            case.pop(0)\n",
    "            cnt += 1\n",
    "            break\n",
    "        else:\n",
    "            case.pop(0)\n",
    "            cnt += 1\n",
    "            if len(set(case)) == 1:\n",
    "                cnt += (len(case)-1)\n",
    "                break\n",
    "    print(cnt)"
   ]
  }
 ],
 "metadata": {
  "interpreter": {
   "hash": "e8de9a0517cb421e6cd607854e94eeaca1804978222378398d6fa367a6b4d678"
  },
  "kernelspec": {
   "display_name": "Python 3.9.7 ('project')",
   "language": "python",
   "name": "python3"
  },
  "language_info": {
   "codemirror_mode": {
    "name": "ipython",
    "version": 3
   },
   "file_extension": ".py",
   "mimetype": "text/x-python",
   "name": "python",
   "nbconvert_exporter": "python",
   "pygments_lexer": "ipython3",
   "version": "3.8.10"
  },
  "orig_nbformat": 4
 },
 "nbformat": 4,
 "nbformat_minor": 2
}
