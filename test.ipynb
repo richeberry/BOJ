{
 "cells": [
  {
   "cell_type": "code",
   "execution_count": 2,
   "metadata": {},
   "outputs": [
    {
     "name": "stdout",
     "output_type": "stream",
     "text": [
      "factor\n",
      "multiple\n",
      "neither\n"
     ]
    }
   ],
   "source": [
    "import sys\n",
    "input = sys.stdin.readline\n",
    "\n",
    "while True:\n",
    "    a, b = map(int, input().split())\n",
    "    if a == 0 and b == 0:\n",
    "        break\n",
    "    if b % a == 0:\n",
    "        print('factor')\n",
    "    elif a % b == 0:\n",
    "        print('multiple')\n",
    "    else:\n",
    "        print('neither')"
   ]
  },
  {
   "cell_type": "code",
   "execution_count": 23,
   "metadata": {},
   "outputs": [
    {
     "name": "stdout",
     "output_type": "stream",
     "text": [
      "10\n",
      "[0, 1, 1, 1, 0, 0, 0, 0, 0, 0, 2]\n",
      "2\n"
     ]
    }
   ],
   "source": [
    "\n",
    "# BOJ _ 1463 1로 만들기\n",
    "\n",
    "n = int(input())\n",
    "\n",
    "dp = [0] * (n + 1)\n",
    "dp[1] = 1\n",
    "dp[2] = 1\n",
    "dp[3] = 1\n",
    "\n",
    "# bottom up으로 진행\n",
    "\n",
    "# 탈출 조건\n",
    "if n % 2 == 0:\n",
    "    dp[n] += dp[2] + 1\n",
    "elif n % 3 == 0:\n",
    "    dp[n] += dp[3] + 1\n",
    "else:\n",
    "    dp[n] += dp[1]\n",
    "\n",
    "print(n)\n",
    "print(dp)\n",
    "print(dp[n])"
   ]
  }
 ],
 "metadata": {
  "interpreter": {
   "hash": "aee8b7b246df8f9039afb4144a1f6fd8d2ca17a180786b69acc140d282b71a49"
  },
  "kernelspec": {
   "display_name": "Python 3.8.10 64-bit",
   "language": "python",
   "name": "python3"
  },
  "language_info": {
   "codemirror_mode": {
    "name": "ipython",
    "version": 3
   },
   "file_extension": ".py",
   "mimetype": "text/x-python",
   "name": "python",
   "nbconvert_exporter": "python",
   "pygments_lexer": "ipython3",
   "version": "3.8.10"
  },
  "orig_nbformat": 4
 },
 "nbformat": 4,
 "nbformat_minor": 2
}
