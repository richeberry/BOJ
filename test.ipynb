{
 "cells": [
  {
   "cell_type": "code",
   "execution_count": 76,
   "metadata": {},
   "outputs": [
    {
     "name": "stdout",
     "output_type": "stream",
     "text": [
      "1\n",
      "1\n",
      "0\n",
      "0\n",
      "1\n"
     ]
    }
   ],
   "source": [
    "import sys\n",
    "input = sys.stdin.readline\n",
    "n = int(input())\n",
    "nlist = list(map(int, input().split(' ')))\n",
    "m = int(input())\n",
    "mlist = list(map(int, input().split(' ')))\n",
    "\n",
    "nlist.sort() # 이진 분할 정의 - 정렬 되어있는 배열에서 찾는 것\n",
    "\n",
    "def bsch(lst, num, start, end):\n",
    "    while start <= end:\n",
    "        mid = (start+end) // 2 # 이진 분할 \n",
    "        if lst[mid] == num: # 중앙값과 같으면\n",
    "            return True # True 반환 -> 이진 분할\n",
    "        \n",
    "        elif lst[mid] > num: # 중앙값이 더 크면\n",
    "            end = mid - 1 # 끝값을 중앙값 앞으로 -> 리스트 앞으로 분할해줌 \n",
    "            \n",
    "        else: # 중앙값이 더 작으면\n",
    "            start = mid + 1 # 시작값을 중앙값 뒤로 -> 리스트 뒤로 분할해줌\n",
    "    return False\n",
    "\n",
    "for num in mlist: # mlist에 있는 값 순서대로 비교\n",
    "    if bsch(nlist, num, 0, n-1): #nlist와 비교, end = nlist 길이 -1\n",
    "        print(1)\n",
    "    else:\n",
    "        print(0)"
   ]
  },
  {
   "cell_type": "code",
   "execution_count": 34,
   "metadata": {},
   "outputs": [
    {
     "name": "stdout",
     "output_type": "stream",
     "text": [
      "1\n"
     ]
    }
   ],
   "source": [
    "num = int(input())\n",
    "\n",
    "b = 1\n",
    "for i in range(1,num):\n",
    "    a = (6*i)-5\n",
    "    b = a + b    \n",
    "    if num <= b:\n",
    "        print(i)\n",
    "        break\n"
   ]
  },
  {
   "cell_type": "code",
   "execution_count": 5,
   "metadata": {},
   "outputs": [
    {
     "data": {
      "text/plain": [
       "24"
      ]
     },
     "execution_count": 5,
     "metadata": {},
     "output_type": "execute_result"
    }
   ],
   "source": []
  }
 ],
 "metadata": {
  "interpreter": {
   "hash": "78d197df8da3670ad225ac323aa897c45a581bbb0601d44e4b11c6a2c07f06b2"
  },
  "kernelspec": {
   "display_name": "Python 3.8.12 64-bit ('5': conda)",
   "language": "python",
   "name": "python3"
  },
  "language_info": {
   "codemirror_mode": {
    "name": "ipython",
    "version": 3
   },
   "file_extension": ".py",
   "mimetype": "text/x-python",
   "name": "python",
   "nbconvert_exporter": "python",
   "pygments_lexer": "ipython3",
   "version": "3.8.12"
  },
  "orig_nbformat": 4
 },
 "nbformat": 4,
 "nbformat_minor": 2
}
