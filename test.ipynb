{
 "cells": [
  {
   "cell_type": "code",
   "execution_count": 64,
   "metadata": {},
   "outputs": [
    {
     "name": "stdout",
     "output_type": "stream",
     "text": [
      "<3, 6, 2, 7, 5, 1, 4>\n"
     ]
    }
   ],
   "source": [
    "# 목 복습\n",
    "# 순서대로 K번째 사람 제거\n",
    "# 요세푸스 순열 (N,K)\n",
    "\n",
    "N = 7 \n",
    "K = 3\n",
    "\n",
    "yose = [i for i in range(1,N+1)]\n",
    "answer = []\n",
    "person = 0\n",
    "\n",
    "for i in range(N):\n",
    "    person += K-1 # 제거할 사람의 인덱스\n",
    "    if person >= len(yose): # 사람의 인덱스가 사람 수를 넘으면 \n",
    "        person = person%len(yose) # 다시 처음부터의 순서대로 \n",
    "    answer.append(str(yose.pop(person))) # <> 씌워주기 위해 str로 리스트에 더하기\n",
    "\n",
    "\n",
    "print(f\"<{', '.join(answer)}>\")\n"
   ]
  },
  {
   "cell_type": "code",
   "execution_count": null,
   "metadata": {},
   "outputs": [],
   "source": [
    "import sys\n",
    "input = sys.stdin.readline\n",
    "N,K = map(int, input().split())\n",
    "yose = [i for i in range(1,N+1)]\n",
    "answer = []\n",
    "person = 0\n",
    "\n",
    "for i in range(N):\n",
    "    person += K-1 # 제거할 사람의 인덱스\n",
    "    if person >= len(yose): # 사람의 인덱스가 사람 수를 넘으면 \n",
    "        person = person%len(yose) # 다시 처음부터의 순서대로 \n",
    "    answer.append(str(yose.pop(person))) # <> 씌워주기 위해 str로 리스트에 더하기\n",
    "\n",
    "\n",
    "print(f\"<{', '.join(answer)}>\")\n",
    "\n"
   ]
  }
 ],
 "metadata": {
  "interpreter": {
   "hash": "e8de9a0517cb421e6cd607854e94eeaca1804978222378398d6fa367a6b4d678"
  },
  "kernelspec": {
   "display_name": "Python 3.9.7 ('project')",
   "language": "python",
   "name": "python3"
  },
  "language_info": {
   "codemirror_mode": {
    "name": "ipython",
    "version": 3
   },
   "file_extension": ".py",
   "mimetype": "text/x-python",
   "name": "python",
   "nbconvert_exporter": "python",
   "pygments_lexer": "ipython3",
   "version": "3.8.12"
  },
  "orig_nbformat": 4
 },
 "nbformat": 4,
 "nbformat_minor": 2
}
