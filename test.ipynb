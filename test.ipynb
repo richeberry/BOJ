{
 "cells": [
  {
   "cell_type": "code",
   "execution_count": 136,
   "metadata": {},
   "outputs": [
    {
     "name": "stdout",
     "output_type": "stream",
     "text": [
      "front\n",
      "-1\n",
      "back\n",
      "-1\n",
      "pop_front\n",
      "-1\n",
      "pop_back\n",
      "-1\n",
      "push_front\n",
      "front\n",
      "1\n",
      "pop_back\n",
      "1\n",
      "push_back\n",
      "back\n",
      "2\n",
      "pop_front\n",
      "2\n",
      "push_front\n",
      "push_front\n",
      "front\n",
      "333\n",
      "back\n",
      "10\n",
      "pop_back\n",
      "10\n",
      "pop_back\n",
      "333\n",
      "push_back\n",
      "enter\n"
     ]
    },
    {
     "ename": "IndexError",
     "evalue": "list index out of range",
     "output_type": "error",
     "traceback": [
      "\u001b[0;31m---------------------------------------------------------------------------\u001b[0m",
      "\u001b[0;31mIndexError\u001b[0m                                Traceback (most recent call last)",
      "\u001b[1;32m/Users/songy/Documents/Codes/BOJ/test.ipynb Cell 1'\u001b[0m in \u001b[0;36m<cell line: 6>\u001b[0;34m()\u001b[0m\n\u001b[1;32m      <a href='vscode-notebook-cell:/Users/songy/Documents/Codes/BOJ/test.ipynb#ch0000007?line=5'>6</a>\u001b[0m \u001b[39mfor\u001b[39;00m i \u001b[39min\u001b[39;00m \u001b[39mrange\u001b[39m(\u001b[39mint\u001b[39m(\u001b[39minput\u001b[39m())):\n\u001b[1;32m      <a href='vscode-notebook-cell:/Users/songy/Documents/Codes/BOJ/test.ipynb#ch0000007?line=6'>7</a>\u001b[0m     order \u001b[39m=\u001b[39m \u001b[39mlist\u001b[39m(\u001b[39mmap\u001b[39m(\u001b[39mstr\u001b[39m, \u001b[39minput\u001b[39m()\u001b[39m.\u001b[39msplit()))\n\u001b[0;32m----> <a href='vscode-notebook-cell:/Users/songy/Documents/Codes/BOJ/test.ipynb#ch0000007?line=7'>8</a>\u001b[0m     o0 \u001b[39m=\u001b[39m order[\u001b[39m0\u001b[39;49m]\n\u001b[1;32m      <a href='vscode-notebook-cell:/Users/songy/Documents/Codes/BOJ/test.ipynb#ch0000007?line=8'>9</a>\u001b[0m     \u001b[39mprint\u001b[39m(o0)\n\u001b[1;32m     <a href='vscode-notebook-cell:/Users/songy/Documents/Codes/BOJ/test.ipynb#ch0000007?line=9'>10</a>\u001b[0m     \u001b[39mif\u001b[39;00m \u001b[39mlen\u001b[39m(order) \u001b[39m>\u001b[39m \u001b[39m1\u001b[39m:\n",
      "\u001b[0;31mIndexError\u001b[0m: list index out of range"
     ]
    }
   ],
   "source": [
    "# 10866 _ 덱\n",
    "\n",
    "from collections import deque\n",
    "import sys\n",
    "input = sys.stdin.readline\n",
    "\n",
    "numlst = deque()\n",
    "for i in range(int(input())):\n",
    "    order = list(map(str, input().split()))\n",
    "    o0 = order[0]\n",
    "    if len(order) > 1:\n",
    "        o1 = order[1]\n",
    "\n",
    "        if o0 == 'push_back':\n",
    "            numlst.append(o1)\n",
    "        elif o0 == 'push_front':\n",
    "            numlst.appendleft(o1)\n",
    "            \n",
    "    elif o0 == 'size':\n",
    "        print(len(numlst))\n",
    "    elif o0 == 'empty':\n",
    "        if not numlst:\n",
    "            print(1)\n",
    "        else: print(0)\n",
    "        \n",
    "    else:\n",
    "        if numlst:\n",
    "            if o0 == 'front':\n",
    "                print(numlst[0])\n",
    "            elif o0 == 'back':\n",
    "                print(numlst[-1])\n",
    "            if o0 == 'pop_front':\n",
    "                print(numlst.popleft())\n",
    "            elif o0 == 'pop_back':\n",
    "                print(numlst.pop())\n",
    "        else:\n",
    "            print(-1)\n",
    "\n"
   ]
  },
  {
   "cell_type": "code",
   "execution_count": null,
   "metadata": {},
   "outputs": [],
   "source": []
  },
  {
   "cell_type": "code",
   "execution_count": null,
   "metadata": {},
   "outputs": [],
   "source": []
  },
  {
   "cell_type": "code",
   "execution_count": 118,
   "metadata": {},
   "outputs": [
    {
     "name": "stdout",
     "output_type": "stream",
     "text": [
      "2\n",
      "deque([1])\n"
     ]
    }
   ],
   "source": [
    "a = deque()\n",
    "a.appendleft(1)\n",
    "a.appendleft(2)\n",
    "print(a.popleft())\n",
    "print(a)"
   ]
  }
 ],
 "metadata": {
  "interpreter": {
   "hash": "e8de9a0517cb421e6cd607854e94eeaca1804978222378398d6fa367a6b4d678"
  },
  "kernelspec": {
   "display_name": "Python 3.9.7 ('project')",
   "language": "python",
   "name": "python3"
  },
  "language_info": {
   "codemirror_mode": {
    "name": "ipython",
    "version": 3
   },
   "file_extension": ".py",
   "mimetype": "text/x-python",
   "name": "python",
   "nbconvert_exporter": "python",
   "pygments_lexer": "ipython3",
   "version": "3.8.10"
  },
  "orig_nbformat": 4
 },
 "nbformat": 4,
 "nbformat_minor": 2
}
