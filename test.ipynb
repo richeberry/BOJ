{
 "cells": [
  {
   "cell_type": "code",
   "execution_count": 17,
   "metadata": {},
   "outputs": [
    {
     "name": "stdout",
     "output_type": "stream",
     "text": [
      "10\n",
      "9\n"
     ]
    },
    {
     "ename": "TypeError",
     "evalue": "cardnum() missing 1 required positional argument: 'card'",
     "output_type": "error",
     "traceback": [
      "\u001b[0;31m---------------------------------------------------------------------------\u001b[0m",
      "\u001b[0;31mTypeError\u001b[0m                                 Traceback (most recent call last)",
      "\u001b[1;32m/Users/songy/Documents/Codes/BOJ/test.ipynb 셀 1\u001b[0m in \u001b[0;36m<cell line: 22>\u001b[0;34m()\u001b[0m\n\u001b[1;32m     <a href='vscode-notebook-cell:/Users/songy/Documents/Codes/BOJ/test.ipynb#ch0000018?line=21'>22</a>\u001b[0m \u001b[39mfor\u001b[39;00m card \u001b[39min\u001b[39;00m cardin:\n\u001b[1;32m     <a href='vscode-notebook-cell:/Users/songy/Documents/Codes/BOJ/test.ipynb#ch0000018?line=22'>23</a>\u001b[0m     \u001b[39mprint\u001b[39m(card)\n\u001b[0;32m---> <a href='vscode-notebook-cell:/Users/songy/Documents/Codes/BOJ/test.ipynb#ch0000018?line=23'>24</a>\u001b[0m     cardnum(cards, card)\n",
      "\u001b[1;32m/Users/songy/Documents/Codes/BOJ/test.ipynb 셀 1\u001b[0m in \u001b[0;36mcardnum\u001b[0;34m(cardlst, card)\u001b[0m\n\u001b[1;32m     <a href='vscode-notebook-cell:/Users/songy/Documents/Codes/BOJ/test.ipynb#ch0000018?line=10'>11</a>\u001b[0m \u001b[39mdef\u001b[39;00m \u001b[39mcardnum\u001b[39m(cardlst, card):\n\u001b[1;32m     <a href='vscode-notebook-cell:/Users/songy/Documents/Codes/BOJ/test.ipynb#ch0000018?line=11'>12</a>\u001b[0m     \u001b[39m# 중간값보다 클 때\u001b[39;00m\n\u001b[1;32m     <a href='vscode-notebook-cell:/Users/songy/Documents/Codes/BOJ/test.ipynb#ch0000018?line=12'>13</a>\u001b[0m     \u001b[39mif\u001b[39;00m card \u001b[39m>\u001b[39m cardlst[\u001b[39mlen\u001b[39m(cardlst)\u001b[39m/\u001b[39m\u001b[39m/\u001b[39m\u001b[39m2\u001b[39m]:\n\u001b[0;32m---> <a href='vscode-notebook-cell:/Users/songy/Documents/Codes/BOJ/test.ipynb#ch0000018?line=13'>14</a>\u001b[0m         \u001b[39mreturn\u001b[39;00m cardnum(cardlst[\u001b[39mlen\u001b[39;49m(cardlst)\u001b[39m/\u001b[39;49m\u001b[39m/\u001b[39;49m\u001b[39m2\u001b[39;49m:], card)\n\u001b[1;32m     <a href='vscode-notebook-cell:/Users/songy/Documents/Codes/BOJ/test.ipynb#ch0000018?line=14'>15</a>\u001b[0m     \u001b[39m# 중간값일 때\u001b[39;00m\n\u001b[1;32m     <a href='vscode-notebook-cell:/Users/songy/Documents/Codes/BOJ/test.ipynb#ch0000018?line=15'>16</a>\u001b[0m     \u001b[39melif\u001b[39;00m card \u001b[39m==\u001b[39m cardlst[\u001b[39mlen\u001b[39m(cardlst)\u001b[39m/\u001b[39m\u001b[39m/\u001b[39m\u001b[39m2\u001b[39m]:\n",
      "\u001b[1;32m/Users/songy/Documents/Codes/BOJ/test.ipynb 셀 1\u001b[0m in \u001b[0;36mcardnum\u001b[0;34m(cardlst, card)\u001b[0m\n\u001b[1;32m     <a href='vscode-notebook-cell:/Users/songy/Documents/Codes/BOJ/test.ipynb#ch0000018?line=10'>11</a>\u001b[0m \u001b[39mdef\u001b[39;00m \u001b[39mcardnum\u001b[39m(cardlst, card):\n\u001b[1;32m     <a href='vscode-notebook-cell:/Users/songy/Documents/Codes/BOJ/test.ipynb#ch0000018?line=11'>12</a>\u001b[0m     \u001b[39m# 중간값보다 클 때\u001b[39;00m\n\u001b[1;32m     <a href='vscode-notebook-cell:/Users/songy/Documents/Codes/BOJ/test.ipynb#ch0000018?line=12'>13</a>\u001b[0m     \u001b[39mif\u001b[39;00m card \u001b[39m>\u001b[39m cardlst[\u001b[39mlen\u001b[39m(cardlst)\u001b[39m/\u001b[39m\u001b[39m/\u001b[39m\u001b[39m2\u001b[39m]:\n\u001b[0;32m---> <a href='vscode-notebook-cell:/Users/songy/Documents/Codes/BOJ/test.ipynb#ch0000018?line=13'>14</a>\u001b[0m         \u001b[39mreturn\u001b[39;00m cardnum(cardlst[\u001b[39mlen\u001b[39;49m(cardlst)\u001b[39m/\u001b[39;49m\u001b[39m/\u001b[39;49m\u001b[39m2\u001b[39;49m:], card)\n\u001b[1;32m     <a href='vscode-notebook-cell:/Users/songy/Documents/Codes/BOJ/test.ipynb#ch0000018?line=14'>15</a>\u001b[0m     \u001b[39m# 중간값일 때\u001b[39;00m\n\u001b[1;32m     <a href='vscode-notebook-cell:/Users/songy/Documents/Codes/BOJ/test.ipynb#ch0000018?line=15'>16</a>\u001b[0m     \u001b[39melif\u001b[39;00m card \u001b[39m==\u001b[39m cardlst[\u001b[39mlen\u001b[39m(cardlst)\u001b[39m/\u001b[39m\u001b[39m/\u001b[39m\u001b[39m2\u001b[39m]:\n",
      "\u001b[1;32m/Users/songy/Documents/Codes/BOJ/test.ipynb 셀 1\u001b[0m in \u001b[0;36mcardnum\u001b[0;34m(cardlst, card)\u001b[0m\n\u001b[1;32m     <a href='vscode-notebook-cell:/Users/songy/Documents/Codes/BOJ/test.ipynb#ch0000018?line=16'>17</a>\u001b[0m     answer\u001b[39m.\u001b[39mappend(\u001b[39m1\u001b[39m)\n\u001b[1;32m     <a href='vscode-notebook-cell:/Users/songy/Documents/Codes/BOJ/test.ipynb#ch0000018?line=17'>18</a>\u001b[0m \u001b[39m# 중간값보다 작을 때\u001b[39;00m\n\u001b[1;32m     <a href='vscode-notebook-cell:/Users/songy/Documents/Codes/BOJ/test.ipynb#ch0000018?line=18'>19</a>\u001b[0m \u001b[39melse\u001b[39;00m:\n\u001b[0;32m---> <a href='vscode-notebook-cell:/Users/songy/Documents/Codes/BOJ/test.ipynb#ch0000018?line=19'>20</a>\u001b[0m     \u001b[39mreturn\u001b[39;00m cardnum(cardlst[:\u001b[39mlen\u001b[39;49m(cardlst)\u001b[39m/\u001b[39;49m\u001b[39m/\u001b[39;49m\u001b[39m2\u001b[39;49m])\n",
      "\u001b[0;31mTypeError\u001b[0m: cardnum() missing 1 required positional argument: 'card'"
     ]
    }
   ],
   "source": [
    "# n = int(input())\n",
    "# card = sorted(list(map(int, input().split())))\n",
    "cards = [-10, 2, 3, 6, 10]\n",
    "# print(card)\n",
    "\n",
    "cardin = [10, 9, -5, 2, 3, 4, 5, -10]\n",
    "answer = []\n",
    "\n",
    "\n",
    "\n",
    "def cardnum(cardlst, card):\n",
    "    # 중간값보다 클 때\n",
    "    if card > cardlst[len(cardlst)//2]:\n",
    "        return cardnum(cardlst[len(cardlst)//2:], card)\n",
    "    # 중간값일 때\n",
    "    elif card == cardlst[len(cardlst)//2]:\n",
    "        answer.append(1)\n",
    "    # 중간값보다 작을 때\n",
    "    else:\n",
    "        return cardnum(cardlst[:len(cardlst)//2])\n",
    "\n",
    "for card in cardin:\n",
    "    print(card)\n",
    "    cardnum(cards, card)\n",
    "\n"
   ]
  },
  {
   "cell_type": "code",
   "execution_count": null,
   "metadata": {},
   "outputs": [],
   "source": []
  }
 ],
 "metadata": {
  "interpreter": {
   "hash": "aee8b7b246df8f9039afb4144a1f6fd8d2ca17a180786b69acc140d282b71a49"
  },
  "kernelspec": {
   "display_name": "Python 3.8.10 64-bit",
   "language": "python",
   "name": "python3"
  },
  "language_info": {
   "codemirror_mode": {
    "name": "ipython",
    "version": 3
   },
   "file_extension": ".py",
   "mimetype": "text/x-python",
   "name": "python",
   "nbconvert_exporter": "python",
   "pygments_lexer": "ipython3",
   "version": "3.8.10"
  },
  "orig_nbformat": 4
 },
 "nbformat": 4,
 "nbformat_minor": 2
}
