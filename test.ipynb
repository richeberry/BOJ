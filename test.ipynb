{
 "cells": [
  {
   "cell_type": "code",
   "execution_count": 24,
   "metadata": {},
   "outputs": [
    {
     "name": "stdout",
     "output_type": "stream",
     "text": [
      "deque([0, 1, 2, 3, 4, 5, 6, 7, 8, 9])\n",
      "[1, 9, 4, 1, 9, 4, 1, 9, 4]\n",
      "1\n"
     ]
    }
   ],
   "source": [
    "# BOJ _ 1021 회전하는 큐\n",
    "\n",
    "from collections import deque\n",
    "N = 10\n",
    "M = 3\n",
    "\n",
    "que = deque()\n",
    "for i in range(N):\n",
    "    que.append(i)\n",
    "\n",
    "print(que)\n",
    "nums = []\n",
    "\n",
    "for i in range(M):\n",
    "    nums.append(que[0])\n",
    "    que.rotate(-1)\n",
    "    nums.append(que[1])\n",
    "    que.rotate(1)\n",
    "    nums.append(que[2])\n",
    "\n",
    "print(nums)\n",
    "print(min(nums))\n"
   ]
  }
 ],
 "metadata": {
  "interpreter": {
   "hash": "e8de9a0517cb421e6cd607854e94eeaca1804978222378398d6fa367a6b4d678"
  },
  "kernelspec": {
   "display_name": "Python 3.9.7 ('project')",
   "language": "python",
   "name": "python3"
  },
  "language_info": {
   "codemirror_mode": {
    "name": "ipython",
    "version": 3
   },
   "file_extension": ".py",
   "mimetype": "text/x-python",
   "name": "python",
   "nbconvert_exporter": "python",
   "pygments_lexer": "ipython3",
   "version": "3.9.2"
  },
  "orig_nbformat": 4
 },
 "nbformat": 4,
 "nbformat_minor": 2
}
