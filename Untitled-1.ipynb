{
 "cells": [
  {
   "cell_type": "code",
   "execution_count": null,
   "metadata": {},
   "outputs": [],
   "source": [
    "n = int(input())\n",
    "number = map(int, input().split())\n",
    "prime = 0\n",
    "for num in number:\n",
    "    ans = 0 # ans 약수 초기화\n",
    "    if num > 1: # 소수: 1과 자기의 자신만을 약수로 갖는 수 \n",
    "        for j in range(2,num+1):  # 2부터 num까지 하나씩 나누어 떨어지는지 보기\n",
    "            if num % j == 0: # 약수이면\n",
    "                ans += 1 \n",
    "        if ans == 1: # 나누어 떨어지는 수가 1개면 (자기 자신이면)\n",
    "            prime += 1 # 소수\n",
    "\n",
    "print(prime)"
   ]
  },
  {
   "cell_type": "code",
   "execution_count": 22,
   "metadata": {},
   "outputs": [
    {
     "name": "stdout",
     "output_type": "stream",
     "text": [
      "False\n"
     ]
    }
   ],
   "source": [
    "m = 61\n",
    "n = 100\n",
    "\n",
    "lst = []\n",
    "\n",
    "def prime(n, i):\n",
    "    if n > 1:\n",
    "        if n % i == 0:\n",
    "            return prime(n,i+1)\n",
    "        else:\n",
    "            return False\n",
    "    elif n == i+1:\n",
    "        return True\n",
    "\n",
    "print(prime(m,2))"
   ]
  },
  {
   "cell_type": "code",
   "execution_count": 15,
   "metadata": {},
   "outputs": [
    {
     "data": {
      "text/plain": [
       "1"
      ]
     },
     "execution_count": 15,
     "metadata": {},
     "output_type": "execute_result"
    }
   ],
   "source": [
    "7%3"
   ]
  }
 ],
 "metadata": {
  "interpreter": {
   "hash": "24f4ab2bed7c73346bf42d5f3f6c15b74b186e572cbc8477bae76fc5c36ab422"
  },
  "kernelspec": {
   "display_name": "Python 3.8.10 64-bit (windows store)",
   "language": "python",
   "name": "python3"
  },
  "language_info": {
   "codemirror_mode": {
    "name": "ipython",
    "version": 3
   },
   "file_extension": ".py",
   "mimetype": "text/x-python",
   "name": "python",
   "nbconvert_exporter": "python",
   "pygments_lexer": "ipython3",
   "version": "3.8.10"
  },
  "orig_nbformat": 4
 },
 "nbformat": 4,
 "nbformat_minor": 2
}
